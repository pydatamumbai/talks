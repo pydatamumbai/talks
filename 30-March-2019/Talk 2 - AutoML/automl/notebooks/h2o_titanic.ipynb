{
 "cells": [
  {
   "cell_type": "code",
   "execution_count": 1,
   "metadata": {},
   "outputs": [],
   "source": [
    "import os\n",
    "\n",
    "import numpy as np # linear algebra\n",
    "import pandas as pd # data processing, CSV file I/O (e.g. pd.read_csv)\n",
    "\n",
    "import h2o\n",
    "from h2o.automl import H2OAutoML"
   ]
  },
  {
   "cell_type": "code",
   "execution_count": 2,
   "metadata": {},
   "outputs": [],
   "source": [
    "#data cleaning and feature engineering \n",
    "def get_name_prefix(data):\n",
    "    prefix = pd.Series(np.ones(data.shape[0]), index=data.index)\n",
    "    data['Prefix'] = prefix\n",
    "    data.loc[data.Name.str.contains('Miss.', regex=False), 'Prefix'] = 2\n",
    "    data.loc[data.Name.str.contains('Mrs.', regex=False), 'Prefix'] = 3\n",
    "    data.loc[data.Name.str.contains('Mr.', regex=False), 'Prefix'] = 4\n",
    "    \n",
    "# https://stackoverflow.com/a/42523230\n",
    "def one_hot(df, cols):\n",
    "    \"\"\"\n",
    "    @param df pandas DataFrame\n",
    "    @param cols a list of columns to encode \n",
    "    @return a DataFrame with one-hot encoding\n",
    "    \"\"\"\n",
    "    for each in cols:\n",
    "        dummies = pd.get_dummies(df[each], prefix=each, drop_first=False)\n",
    "        del df[each]\n",
    "        df = pd.concat([df, dummies], axis=1)\n",
    "    return df\n",
    "\n",
    "def normalize(df, mean, std):\n",
    "    \"\"\"\n",
    "    @param df pandas DataFrame\n",
    "    @param mean pandas Series of column values mean\n",
    "    @param std pandas Series of column values standard deviation\n",
    "    \"\"\"\n",
    "    for i in range(mean.size):\n",
    "        df[mean.index[i]] = (df[mean.index[i]] - mean[0]) / std[0] \n",
    "\n",
    "def process_data(data):\n",
    "    # get prefix data\n",
    "    get_name_prefix(data)\n",
    "    # remove name and ticket\n",
    "    data.drop(['Ticket', 'Name'], inplace=True, axis=1)\n",
    "    # sex\n",
    "    data.loc[data.Sex != 'male', 'Sex'] = 0;\n",
    "    data.loc[data.Sex == 'male', 'Sex'] = 1;\n",
    "    # cabin\n",
    "    data.Cabin.fillna('0', inplace=True)\n",
    "    data.loc[data.Cabin.str[0] == 'A', 'Cabin'] = 1\n",
    "    data.loc[data.Cabin.str[0] == 'B', 'Cabin'] = 2\n",
    "    data.loc[data.Cabin.str[0] == 'C', 'Cabin'] = 3\n",
    "    data.loc[data.Cabin.str[0] == 'D', 'Cabin'] = 4\n",
    "    data.loc[data.Cabin.str[0] == 'E', 'Cabin'] = 5\n",
    "    data.loc[data.Cabin.str[0] == 'F', 'Cabin'] = 6\n",
    "    data.loc[data.Cabin.str[0] == 'G', 'Cabin'] = 7\n",
    "    data.loc[data.Cabin.str[0] == 'T', 'Cabin'] = 8\n",
    "    # embarked\n",
    "    data.Embarked.fillna(0, inplace=True)\n",
    "    data.loc[data.Embarked == 'C', 'Embarked'] = 1\n",
    "    data.loc[data.Embarked == 'Q', 'Embarked'] = 2\n",
    "    data.loc[data.Embarked == 'S', 'Embarked'] = 3\n",
    "    data.fillna(-1, inplace=True)\n",
    "    \n",
    "    data = one_hot(data, ('Pclass', 'Sex', 'Cabin', 'Embarked', 'Prefix'))\n",
    "    return data.astype(float)\n",
    "\n",
    "#load data\n",
    "train_raw = pd.read_csv('../data/titanic/train.csv')\n",
    "test_raw = pd.read_csv('../data/titanic/test.csv')\n",
    "\n",
    "train = process_data(train_raw)\n",
    "test = process_data(test_raw)\n",
    "\n",
    "data_mean = train[['Age','Fare','SibSp','Parch']].mean(axis=0)\n",
    "data_std = train[['Age','Fare','SibSp','Parch']].std(axis=0)\n",
    "\n",
    "normalize(train, data_mean, data_std)\n",
    "normalize(test, data_mean, data_std)\n",
    "\n",
    "test, train = test.align(train, axis=1, fill_value=0)"
   ]
  },
  {
   "cell_type": "code",
   "execution_count": 3,
   "metadata": {},
   "outputs": [
    {
     "name": "stdout",
     "output_type": "stream",
     "text": [
      "Checking whether there is an H2O instance running at http://localhost:54321..... not found.\n",
      "Attempting to start a local H2O server...\n",
      "  Java Version: java version \"1.7.0_201\"; OpenJDK Runtime Environment (IcedTea 2.6.16) (Alpine 7.201.2.6.16-r0); OpenJDK 64-Bit Server VM (build 24.201-b00, mixed mode)\n",
      "  Starting server from /usr/lib/python3.6/site-packages/h2o/backend/bin/h2o.jar\n",
      "  Ice root: /tmp/tmpn5gemxj7\n",
      "  JVM stdout: /tmp/tmpn5gemxj7/h2o_unknownUser_started_from_python.out\n",
      "  JVM stderr: /tmp/tmpn5gemxj7/h2o_unknownUser_started_from_python.err\n",
      "  Server is running at http://127.0.0.1:54321\n",
      "Connecting to H2O server at http://127.0.0.1:54321... successful.\n"
     ]
    },
    {
     "data": {
      "text/html": [
       "<div style=\"overflow:auto\"><table style=\"width:50%\"><tr><td>H2O cluster uptime:</td>\n",
       "<td>02 secs</td></tr>\n",
       "<tr><td>H2O cluster timezone:</td>\n",
       "<td>Etc/GMT</td></tr>\n",
       "<tr><td>H2O data parsing timezone:</td>\n",
       "<td>UTC</td></tr>\n",
       "<tr><td>H2O cluster version:</td>\n",
       "<td>3.22.1.6</td></tr>\n",
       "<tr><td>H2O cluster version age:</td>\n",
       "<td>14 days, 13 hours and 9 minutes </td></tr>\n",
       "<tr><td>H2O cluster name:</td>\n",
       "<td>H2O_from_python_unknownUser_kgbogi</td></tr>\n",
       "<tr><td>H2O cluster total nodes:</td>\n",
       "<td>1</td></tr>\n",
       "<tr><td>H2O cluster free memory:</td>\n",
       "<td>592 Mb</td></tr>\n",
       "<tr><td>H2O cluster total cores:</td>\n",
       "<td>2</td></tr>\n",
       "<tr><td>H2O cluster allowed cores:</td>\n",
       "<td>2</td></tr>\n",
       "<tr><td>H2O cluster status:</td>\n",
       "<td>accepting new members, healthy</td></tr>\n",
       "<tr><td>H2O connection url:</td>\n",
       "<td>http://127.0.0.1:54321</td></tr>\n",
       "<tr><td>H2O connection proxy:</td>\n",
       "<td>None</td></tr>\n",
       "<tr><td>H2O internal security:</td>\n",
       "<td>False</td></tr>\n",
       "<tr><td>H2O API Extensions:</td>\n",
       "<td>AutoML, Amazon S3, Algos, Core V3, Core V4</td></tr>\n",
       "<tr><td>Python version:</td>\n",
       "<td>3.6.3 final</td></tr></table></div>"
      ],
      "text/plain": [
       "--------------------------  ------------------------------------------\n",
       "H2O cluster uptime:         02 secs\n",
       "H2O cluster timezone:       Etc/GMT\n",
       "H2O data parsing timezone:  UTC\n",
       "H2O cluster version:        3.22.1.6\n",
       "H2O cluster version age:    14 days, 13 hours and 9 minutes\n",
       "H2O cluster name:           H2O_from_python_unknownUser_kgbogi\n",
       "H2O cluster total nodes:    1\n",
       "H2O cluster free memory:    592 Mb\n",
       "H2O cluster total cores:    2\n",
       "H2O cluster allowed cores:  2\n",
       "H2O cluster status:         accepting new members, healthy\n",
       "H2O connection url:         http://127.0.0.1:54321\n",
       "H2O connection proxy:\n",
       "H2O internal security:      False\n",
       "H2O API Extensions:         AutoML, Amazon S3, Algos, Core V3, Core V4\n",
       "Python version:             3.6.3 final\n",
       "--------------------------  ------------------------------------------"
      ]
     },
     "metadata": {},
     "output_type": "display_data"
    },
    {
     "name": "stdout",
     "output_type": "stream",
     "text": [
      "Parse progress: |█████████████████████████████████████████████████████████| 100%\n",
      "Parse progress: |█████████████████████████████████████████████████████████| 100%\n",
      "AutoML progress: |████████████████████████████████████████████████████████| 100%\n",
      "gbm prediction progress: |████████████████████████████████████████████████| 100%\n"
     ]
    }
   ],
   "source": [
    "#start H2O \n",
    "\n",
    "# h2o.init(ip=\"localhost\", port=\"8080\")\n",
    "\n",
    "h2o.init()\n",
    "\n",
    "#load data as h2o frames\n",
    "train = h2o.H2OFrame(train)\n",
    "test = h2o.H2OFrame(test)\n",
    "\n",
    "#drop passengerId from data set\n",
    "passId = test['PassengerId']\n",
    "train = train.drop('PassengerId',axis =1)\n",
    "test = test.drop('PassengerId',axis =1)\n",
    "\n",
    "#identify predictors and labels\n",
    "x = train.columns\n",
    "y = 'Survived'\n",
    "x.remove(y)\n",
    "\n",
    "#for binary classification, lables should be a factor\n",
    "train[y] = train[y].asfactor()\n",
    "\n",
    "# Run AutoML\n",
    "aml_ti = H2OAutoML(max_runtime_secs= 120,max_models= 10, seed= 7,nfolds= 10)\n",
    "aml_ti.train(x = x, y = y,\n",
    "          training_frame = train)\n",
    "          \n",
    "#prediction\n",
    "pred = aml_ti.leader.predict(test)\n",
    "\n",
    "#save predict results to submission form\n",
    "pred_df = pred.as_data_frame()\n",
    "pred_res = pred_df.predict\n",
    "passId_df = passId.as_data_frame()\n",
    "res_ti = pd.concat([passId_df,pred_res],axis=1,ignore_index = True)\n",
    "res_ti.columns = ['PassengerId','Survived']\n",
    "res_ti.to_csv('mypred.csv',index=False)\n",
    "\n",
    "#http://docs.h2o.ai/h2o/latest-stable/h2o-docs/automl.html"
   ]
  },
  {
   "cell_type": "code",
   "execution_count": 4,
   "metadata": {},
   "outputs": [
    {
     "data": {
      "text/html": [
       "<table>\n",
       "<thead>\n",
       "<tr><th>model_id                                           </th><th style=\"text-align: right;\">     auc</th><th style=\"text-align: right;\">  logloss</th><th style=\"text-align: right;\">  mean_per_class_error</th><th style=\"text-align: right;\">    rmse</th><th style=\"text-align: right;\">     mse</th></tr>\n",
       "</thead>\n",
       "<tbody>\n",
       "<tr><td>GBM_1_AutoML_20190328_093750                       </td><td style=\"text-align: right;\">0.872032</td><td style=\"text-align: right;\"> 0.413346</td><td style=\"text-align: right;\">              0.179968</td><td style=\"text-align: right;\">0.356766</td><td style=\"text-align: right;\">0.127282</td></tr>\n",
       "<tr><td>GBM_4_AutoML_20190328_093750                       </td><td style=\"text-align: right;\">0.867606</td><td style=\"text-align: right;\"> 0.418072</td><td style=\"text-align: right;\">              0.178027</td><td style=\"text-align: right;\">0.356861</td><td style=\"text-align: right;\">0.12735 </td></tr>\n",
       "<tr><td>GBM_2_AutoML_20190328_093750                       </td><td style=\"text-align: right;\">0.867108</td><td style=\"text-align: right;\"> 0.41623 </td><td style=\"text-align: right;\">              0.180376</td><td style=\"text-align: right;\">0.35647 </td><td style=\"text-align: right;\">0.127071</td></tr>\n",
       "<tr><td>StackedEnsemble_AllModels_AutoML_20190328_093750   </td><td style=\"text-align: right;\">0.866927</td><td style=\"text-align: right;\"> 0.415035</td><td style=\"text-align: right;\">              0.18282 </td><td style=\"text-align: right;\">0.358294</td><td style=\"text-align: right;\">0.128375</td></tr>\n",
       "<tr><td>StackedEnsemble_BestOfFamily_AutoML_20190328_093750</td><td style=\"text-align: right;\">0.866498</td><td style=\"text-align: right;\"> 0.414782</td><td style=\"text-align: right;\">              0.181167</td><td style=\"text-align: right;\">0.35833 </td><td style=\"text-align: right;\">0.1284  </td></tr>\n",
       "<tr><td>GBM_3_AutoML_20190328_093750                       </td><td style=\"text-align: right;\">0.865223</td><td style=\"text-align: right;\"> 0.420427</td><td style=\"text-align: right;\">              0.177644</td><td style=\"text-align: right;\">0.357952</td><td style=\"text-align: right;\">0.128129</td></tr>\n",
       "<tr><td>GLM_grid_1_AutoML_20190328_093750_model_1          </td><td style=\"text-align: right;\">0.856344</td><td style=\"text-align: right;\"> 0.442253</td><td style=\"text-align: right;\">              0.202449</td><td style=\"text-align: right;\">0.373309</td><td style=\"text-align: right;\">0.13936 </td></tr>\n",
       "<tr><td>GBM_5_AutoML_20190328_093750                       </td><td style=\"text-align: right;\">0.852709</td><td style=\"text-align: right;\"> 0.445151</td><td style=\"text-align: right;\">              0.213306</td><td style=\"text-align: right;\">0.374165</td><td style=\"text-align: right;\">0.139999</td></tr>\n",
       "<tr><td>DRF_1_AutoML_20190328_093750                       </td><td style=\"text-align: right;\">0.851625</td><td style=\"text-align: right;\"> 1.13749 </td><td style=\"text-align: right;\">              0.193869</td><td style=\"text-align: right;\">0.378304</td><td style=\"text-align: right;\">0.143114</td></tr>\n",
       "<tr><td>DeepLearning_1_AutoML_20190328_093750              </td><td style=\"text-align: right;\">0.845312</td><td style=\"text-align: right;\"> 0.460344</td><td style=\"text-align: right;\">              0.202689</td><td style=\"text-align: right;\">0.379533</td><td style=\"text-align: right;\">0.144045</td></tr>\n",
       "</tbody>\n",
       "</table>"
      ]
     },
     "metadata": {},
     "output_type": "display_data"
    },
    {
     "data": {
      "text/plain": []
     },
     "execution_count": 4,
     "metadata": {},
     "output_type": "execute_result"
    }
   ],
   "source": [
    "#check the leaderboard\n",
    "lb_ti = aml_ti.leaderboard\n",
    "lb_ti"
   ]
  },
  {
   "cell_type": "code",
   "execution_count": null,
   "metadata": {},
   "outputs": [],
   "source": []
  },
  {
   "cell_type": "code",
   "execution_count": null,
   "metadata": {},
   "outputs": [],
   "source": []
  },
  {
   "cell_type": "code",
   "execution_count": null,
   "metadata": {},
   "outputs": [],
   "source": []
  },
  {
   "cell_type": "code",
   "execution_count": null,
   "metadata": {},
   "outputs": [],
   "source": []
  },
  {
   "cell_type": "code",
   "execution_count": null,
   "metadata": {},
   "outputs": [],
   "source": []
  },
  {
   "cell_type": "code",
   "execution_count": null,
   "metadata": {},
   "outputs": [],
   "source": []
  },
  {
   "cell_type": "code",
   "execution_count": null,
   "metadata": {},
   "outputs": [],
   "source": []
  },
  {
   "cell_type": "code",
   "execution_count": null,
   "metadata": {},
   "outputs": [],
   "source": []
  },
  {
   "cell_type": "code",
   "execution_count": null,
   "metadata": {},
   "outputs": [],
   "source": []
  },
  {
   "cell_type": "code",
   "execution_count": null,
   "metadata": {},
   "outputs": [],
   "source": []
  },
  {
   "cell_type": "code",
   "execution_count": null,
   "metadata": {},
   "outputs": [],
   "source": []
  },
  {
   "cell_type": "code",
   "execution_count": null,
   "metadata": {},
   "outputs": [],
   "source": []
  }
 ],
 "metadata": {
  "kernelspec": {
   "display_name": "Python 3",
   "language": "python",
   "name": "python3"
  },
  "language_info": {
   "codemirror_mode": {
    "name": "ipython",
    "version": 3
   },
   "file_extension": ".py",
   "mimetype": "text/x-python",
   "name": "python",
   "nbconvert_exporter": "python",
   "pygments_lexer": "ipython3",
   "version": "3.6.3"
  }
 },
 "nbformat": 4,
 "nbformat_minor": 2
}
